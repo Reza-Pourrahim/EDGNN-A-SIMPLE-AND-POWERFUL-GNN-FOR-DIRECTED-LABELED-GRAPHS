{
  "nbformat": 4,
  "nbformat_minor": 0,
  "metadata": {
    "colab": {
      "name": "NNDS Testbook.ipynb",
      "provenance": [],
      "toc_visible": true,
      "authorship_tag": "ABX9TyOWxWFmU8GVC95E/G9b5fG9"
    },
    "kernelspec": {
      "name": "python3",
      "display_name": "Python 3"
    },
    "accelerator": "GPU"
  },
  "cells": [
    {
      "cell_type": "code",
      "metadata": {
        "id": "fEpBsNSeq-AY",
        "colab_type": "code",
        "colab": {}
      },
      "source": [
        "!pip install torch===1.4.0 torchvision===0.5.0 -f https://download.pytorch.org/whl/torch_stable.html"
      ],
      "execution_count": 0,
      "outputs": []
    },
    {
      "cell_type": "code",
      "metadata": {
        "id": "tTI5D905vcA4",
        "colab_type": "code",
        "colab": {}
      },
      "source": [
        "!pip install dgl-cu101"
      ],
      "execution_count": 0,
      "outputs": []
    },
    {
      "cell_type": "code",
      "metadata": {
        "id": "nJ-Yr5-yrnGM",
        "colab_type": "code",
        "colab": {}
      },
      "source": [
        "!pip install rdflib==4.2.2"
      ],
      "execution_count": 0,
      "outputs": []
    },
    {
      "cell_type": "code",
      "metadata": {
        "id": "2jvqWPxhEzJ9",
        "colab_type": "code",
        "colab": {}
      },
      "source": [
        "import csv\n",
        "import pandas as pd\n",
        "import networkx as nx\n",
        "import matplotlib.pyplot as plt"
      ],
      "execution_count": 0,
      "outputs": []
    },
    {
      "cell_type": "code",
      "metadata": {
        "id": "Ggt_mJwaraLs",
        "colab_type": "code",
        "outputId": "da3351f8-27ec-4736-a296-56adbc759b54",
        "colab": {
          "base_uri": "https://localhost:8080/",
          "height": 72
        }
      },
      "source": [
        "import torch\n",
        "print(torch.__version__)\n",
        "print(torch.cuda.is_available())\n",
        "torch.cuda.get_device_name(0)\n"
      ],
      "execution_count": 3,
      "outputs": [
        {
          "output_type": "stream",
          "text": [
            "1.4.0\n",
            "True\n"
          ],
          "name": "stdout"
        },
        {
          "output_type": "execute_result",
          "data": {
            "text/plain": [
              "'Tesla P4'"
            ]
          },
          "metadata": {
            "tags": []
          },
          "execution_count": 3
        }
      ]
    },
    {
      "cell_type": "code",
      "metadata": {
        "id": "LoxvgSepmpUJ",
        "colab_type": "code",
        "colab": {}
      },
      "source": [
        "G = nx.Graph()"
      ],
      "execution_count": 0,
      "outputs": []
    },
    {
      "cell_type": "markdown",
      "metadata": {
        "id": "bzdedCHs45cC",
        "colab_type": "text"
      },
      "source": [
        "### Reading the MUTAG Dataset from My Github Repository."
      ]
    },
    {
      "cell_type": "code",
      "metadata": {
        "id": "N_R4j0J1ImLb",
        "colab_type": "code",
        "colab": {}
      },
      "source": [
        "Mutag_edges_url = 'https://raw.githubusercontent.com/Rezaprh/MUTAG/master/Mutag.edges'\n",
        "Mutag_graph_idx_url = 'https://raw.githubusercontent.com/Rezaprh/MUTAG/master/Mutag.graph_idx'\n",
        "Mutag_graph_labels_url = 'https://raw.githubusercontent.com/Rezaprh/MUTAG/master/Mutag.graph_labels'\n",
        "Mutag_link_labels_url = 'https://raw.githubusercontent.com/Rezaprh/MUTAG/master/Mutag.link_labels'\n",
        "Mutag_node_labels_url = 'https://raw.githubusercontent.com/Rezaprh/MUTAG/master/Mutag.node_labels'"
      ],
      "execution_count": 0,
      "outputs": []
    },
    {
      "cell_type": "code",
      "metadata": {
        "id": "HreZorOJB5n1",
        "colab_type": "code",
        "colab": {}
      },
      "source": [
        "edges = pd.read_csv(Mutag_edges_url)\n",
        "graph_idx = pd.read_csv(Mutag_graph_idx_url)\n",
        "graph_labels = pd.read_csv(Mutag_graph_labels_url)\n",
        "link_labels = pd.read_csv(Mutag_link_labels_url)\n",
        "node_labels = pd.read_csv(Mutag_node_labels_url)"
      ],
      "execution_count": 0,
      "outputs": []
    },
    {
      "cell_type": "code",
      "metadata": {
        "id": "N34njDDVCBN4",
        "colab_type": "code",
        "colab": {
          "base_uri": "https://localhost:8080/",
          "height": 407
        },
        "outputId": "cde1abfd-b020-42a3-bd12-48e2b784ded5"
      },
      "source": [
        "for row in f1:\n",
        "g.add_nodes_from(row)"
      ],
      "execution_count": 6,
      "outputs": [
        {
          "output_type": "execute_result",
          "data": {
            "text/html": [
              "<div>\n",
              "<style scoped>\n",
              "    .dataframe tbody tr th:only-of-type {\n",
              "        vertical-align: middle;\n",
              "    }\n",
              "\n",
              "    .dataframe tbody tr th {\n",
              "        vertical-align: top;\n",
              "    }\n",
              "\n",
              "    .dataframe thead th {\n",
              "        text-align: right;\n",
              "    }\n",
              "</style>\n",
              "<table border=\"1\" class=\"dataframe\">\n",
              "  <thead>\n",
              "    <tr style=\"text-align: right;\">\n",
              "      <th></th>\n",
              "      <th>1</th>\n",
              "      <th>1.1</th>\n",
              "    </tr>\n",
              "  </thead>\n",
              "  <tbody>\n",
              "    <tr>\n",
              "      <th>0</th>\n",
              "      <td>2.0</td>\n",
              "      <td>1</td>\n",
              "    </tr>\n",
              "    <tr>\n",
              "      <th>1</th>\n",
              "      <td>3.0</td>\n",
              "      <td>1</td>\n",
              "    </tr>\n",
              "    <tr>\n",
              "      <th>2</th>\n",
              "      <td>4.0</td>\n",
              "      <td>1</td>\n",
              "    </tr>\n",
              "    <tr>\n",
              "      <th>3</th>\n",
              "      <td>5.0</td>\n",
              "      <td>2</td>\n",
              "    </tr>\n",
              "    <tr>\n",
              "      <th>4</th>\n",
              "      <td>6.0</td>\n",
              "      <td>3</td>\n",
              "    </tr>\n",
              "    <tr>\n",
              "      <th>...</th>\n",
              "      <td>...</td>\n",
              "      <td>...</td>\n",
              "    </tr>\n",
              "    <tr>\n",
              "      <th>131482</th>\n",
              "      <td>131480.0</td>\n",
              "      <td>4</td>\n",
              "    </tr>\n",
              "    <tr>\n",
              "      <th>131483</th>\n",
              "      <td>131480.0</td>\n",
              "      <td>4</td>\n",
              "    </tr>\n",
              "    <tr>\n",
              "      <th>131484</th>\n",
              "      <td>131490.0</td>\n",
              "      <td>4</td>\n",
              "    </tr>\n",
              "    <tr>\n",
              "      <th>131485</th>\n",
              "      <td>131490.0</td>\n",
              "      <td>4</td>\n",
              "    </tr>\n",
              "    <tr>\n",
              "      <th>131486</th>\n",
              "      <td>131490.0</td>\n",
              "      <td>4</td>\n",
              "    </tr>\n",
              "  </tbody>\n",
              "</table>\n",
              "<p>131487 rows × 2 columns</p>\n",
              "</div>"
            ],
            "text/plain": [
              "               1  1.1\n",
              "0            2.0    1\n",
              "1            3.0    1\n",
              "2            4.0    1\n",
              "3            5.0    2\n",
              "4            6.0    3\n",
              "...          ...  ...\n",
              "131482  131480.0    4\n",
              "131483  131480.0    4\n",
              "131484  131490.0    4\n",
              "131485  131490.0    4\n",
              "131486  131490.0    4\n",
              "\n",
              "[131487 rows x 2 columns]"
            ]
          },
          "metadata": {
            "tags": []
          },
          "execution_count": 6
        }
      ]
    },
    {
      "cell_type": "code",
      "metadata": {
        "id": "RfJ_o-V6qkdL",
        "colab_type": "code",
        "colab": {}
      },
      "source": [
        ""
      ],
      "execution_count": 0,
      "outputs": []
    },
    {
      "cell_type": "code",
      "metadata": {
        "id": "YNsdSNedqlEX",
        "colab_type": "code",
        "colab": {}
      },
      "source": [
        ""
      ],
      "execution_count": 0,
      "outputs": []
    },
    {
      "cell_type": "code",
      "metadata": {
        "id": "3FmcJfQnqlc5",
        "colab_type": "code",
        "colab": {}
      },
      "source": [
        ""
      ],
      "execution_count": 0,
      "outputs": []
    },
    {
      "cell_type": "code",
      "metadata": {
        "id": "ETuaot-jqlt5",
        "colab_type": "code",
        "colab": {}
      },
      "source": [
        ""
      ],
      "execution_count": 0,
      "outputs": []
    },
    {
      "cell_type": "code",
      "metadata": {
        "id": "4Z2MdXsoqFsM",
        "colab_type": "code",
        "colab": {}
      },
      "source": [
        ""
      ],
      "execution_count": 0,
      "outputs": []
    },
    {
      "cell_type": "markdown",
      "metadata": {
        "id": "so1MYS0GqGGn",
        "colab_type": "text"
      },
      "source": [
        ""
      ]
    }
  ]
}